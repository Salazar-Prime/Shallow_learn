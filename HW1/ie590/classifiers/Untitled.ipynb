{
 "cells": [
  {
   "cell_type": "code",
   "execution_count": 50,
   "metadata": {},
   "outputs": [],
   "source": [
    "import pixiedust\n",
    "import numpy as np\n",
    "x = np.random.rand(3,4)\n",
    "y = np.random.rand(2,4)\n",
    "a = [[1,1,1,1],[2,2,2,2],[3,3,3,3]]\n",
    "b = [[4,4,4,4],[5,5,5,5]]\n",
    "c = np.asarray([10,20])\n",
    "d = np.asarray([3,4,5])"
   ]
  },
  {
   "cell_type": "code",
   "execution_count": 55,
   "metadata": {},
   "outputs": [
    {
     "name": "stdout",
     "output_type": "stream",
     "text": [
      "(3, 1)\n",
      "[[13 23]\n",
      " [14 24]\n",
      " [15 25]]\n"
     ]
    }
   ],
   "source": [
    "%qtconsole\n",
    "e = c + d[:,np.newaxis]\n",
    "print(np.shape(d[:,np.newaxis]))\n",
    "print(e)\n"
   ]
  },
  {
   "cell_type": "code",
   "execution_count": 28,
   "metadata": {},
   "outputs": [
    {
     "ename": "ValueError",
     "evalue": "operands could not be broadcast together with shapes (2,) (3,) ",
     "output_type": "error",
     "traceback": [
      "\u001b[0;31m---------------------------------------------------------------------------\u001b[0m",
      "\u001b[0;31mValueError\u001b[0m                                Traceback (most recent call last)",
      "\u001b[0;32m<ipython-input-28-59524d894a12>\u001b[0m in \u001b[0;36m<module>\u001b[0;34m\u001b[0m\n\u001b[1;32m      2\u001b[0m \u001b[0mtemp1\u001b[0m \u001b[0;34m=\u001b[0m \u001b[0mnp\u001b[0m\u001b[0;34m.\u001b[0m\u001b[0msum\u001b[0m\u001b[0;34m(\u001b[0m\u001b[0my\u001b[0m\u001b[0;34m,\u001b[0m\u001b[0maxis\u001b[0m\u001b[0;34m=\u001b[0m\u001b[0;36m1\u001b[0m\u001b[0;34m)\u001b[0m\u001b[0;34m\u001b[0m\u001b[0;34m\u001b[0m\u001b[0m\n\u001b[1;32m      3\u001b[0m \u001b[0mtemp2\u001b[0m \u001b[0;34m=\u001b[0m \u001b[0mnp\u001b[0m\u001b[0;34m.\u001b[0m\u001b[0msum\u001b[0m\u001b[0;34m(\u001b[0m\u001b[0mx\u001b[0m\u001b[0;34m,\u001b[0m \u001b[0maxis\u001b[0m\u001b[0;34m=\u001b[0m\u001b[0;36m1\u001b[0m\u001b[0;34m)\u001b[0m\u001b[0;34m\u001b[0m\u001b[0;34m\u001b[0m\u001b[0m\n\u001b[0;32m----> 4\u001b[0;31m \u001b[0mdists\u001b[0m \u001b[0;34m=\u001b[0m \u001b[0mtemp1\u001b[0m \u001b[0;34m+\u001b[0m \u001b[0mtemp2\u001b[0m\u001b[0;34m\u001b[0m\u001b[0;34m\u001b[0m\u001b[0m\n\u001b[0m",
      "\u001b[0;31mValueError\u001b[0m: operands could not be broadcast together with shapes (2,) (3,) "
     ]
    }
   ],
   "source": [
    "# dists = -2 * np.dot(x,np.transpose(y))\n",
    "temp1 = np.sum(y,axis=1)\n",
    "temp2 = np.sum(x, axis=1)\n",
    "dists = temp1 + temp2"
   ]
  },
  {
   "cell_type": "code",
   "execution_count": 15,
   "metadata": {},
   "outputs": [
    {
     "name": "stdout",
     "output_type": "stream",
     "text": [
      "[[0.99432345 0.38961013 0.53952133 0.21774749]\n",
      " [0.5628507  0.47836103 0.86961797 0.81181185]\n",
      " [0.42026004 0.08430361 0.06949282 0.31500738]] \n",
      "\n",
      "\n",
      "[[0.50837089 0.9223527  0.24050061 0.934145  ]\n",
      " [0.72316872 0.09508896 0.51547515 0.63117662]] \n",
      "\n",
      "\n",
      "[2.1412024  2.72264156 0.88906385] \n",
      "\n",
      "\n",
      "[2.6053692  1.96490944] \n",
      "\n",
      "\n"
     ]
    }
   ],
   "source": [
    "%qtconsole\n",
    "print(x,'\\n\\n')\n",
    "print(y,'\\n\\n')\n",
    "# print(dists,'\\n\\n')\n",
    "print(np.sum(x,axis=1),'\\n\\n')\n",
    "print(np.sum(y,axis=1),'\\n\\n')"
   ]
  }
 ],
 "metadata": {
  "kernelspec": {
   "display_name": "Python 3",
   "language": "python",
   "name": "python3"
  },
  "language_info": {
   "codemirror_mode": {
    "name": "ipython",
    "version": 3
   },
   "file_extension": ".py",
   "mimetype": "text/x-python",
   "name": "python",
   "nbconvert_exporter": "python",
   "pygments_lexer": "ipython3",
   "version": "3.6.8"
  }
 },
 "nbformat": 4,
 "nbformat_minor": 2
}
