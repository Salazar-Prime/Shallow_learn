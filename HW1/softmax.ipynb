{
 "cells": [
  {
   "cell_type": "markdown",
   "metadata": {},
   "source": [
    "# Softmax exercise\n",
    "\n",
    "*Complete and hand in the completed notebook (including the output) with your assignment submission. You will be submitting the homework as a zip file including all the parts on the Blackboard.*\n",
    "\n",
    "This exercise is similar to the SVM exercise. In this part, you will:\n",
    "\n",
    "- Implement a partially-vectorized and fully-vectorized **loss function** for the Softmax classifier.\n",
    "- Implement the partially-vectorized and fully-vectorized expression for its **analytic gradient**.\n",
    "- **Compare your implementation** with numerical gradient.\n",
    "- Use a cross validation to **tune the learning rate and regularization** strength.\n",
    "- **Optimize** the loss function with stochastic gradient descent (**SGD**).\n",
    "- **Visualize** the final learned weights.\n"
   ]
  },
  {
   "cell_type": "code",
   "execution_count": 1,
   "metadata": {},
   "outputs": [],
   "source": [
    "## Default modules\n",
    "from __future__ import print_function\n",
    "import random\n",
    "import numpy as np\n",
    "import matplotlib.pyplot as plt\n",
    "# import pixiedust\n",
    "## Custom modules\n",
    "from ie590.data_utils import load_CIFAR10\n",
    "\n",
    "## Ipython setup\n",
    "%matplotlib inline\n",
    "plt.rcParams['figure.figsize'] = (12.5, 10.0) # set default size of plots\n",
    "plt.rcParams['image.interpolation'] = 'nearest'\n",
    "plt.rcParams['image.cmap'] = 'gray'\n",
    "\n",
    "# for auto-reloading extenrnal modules\n",
    "# see http://stackoverflow.com/questions/1907993/autoreload-of-modules-in-ipython\n",
    "%load_ext autoreload\n",
    "%autoreload 2"
   ]
  },
  {
   "cell_type": "code",
   "execution_count": 2,
   "metadata": {},
   "outputs": [
    {
     "name": "stdout",
     "output_type": "stream",
     "text": [
      "Train data shape:  (49000, 3073)\n",
      "Train labels shape:  (49000,)\n",
      "Validation data shape:  (1000, 3073)\n",
      "Validation labels shape:  (1000,)\n",
      "Test data shape:  (1000, 3073)\n",
      "Test labels shape:  (1000,)\n",
      "dev data shape:  (500, 3073)\n",
      "dev labels shape:  (500,)\n"
     ]
    }
   ],
   "source": [
    "## Loading CIFAR 10 data\n",
    "def get_CIFAR10_data(num_training=49000, num_validation=1000, num_test=1000, num_dev=500):\n",
    "    \"\"\"\n",
    "    Load the CIFAR-10 dataset from disk and perform preprocessing to prepare\n",
    "    it for the linear classifier. These are the same steps as we used for the\n",
    "    SVM, but condensed to a single function.  \n",
    "    \"\"\"\n",
    "    # Load the raw CIFAR-10 data\n",
    "    cifar10_dir = 'ie590/datasets/cifar-10-batches-py'\n",
    "    \n",
    "    X_train, y_train, X_test, y_test = load_CIFAR10(cifar10_dir)\n",
    "    \n",
    "    # subsample the data\n",
    "    mask = list(range(num_training, num_training + num_validation))\n",
    "    X_val = X_train[mask]\n",
    "    y_val = y_train[mask]\n",
    "    mask = list(range(num_training))\n",
    "    X_train = X_train[mask]\n",
    "    y_train = y_train[mask]\n",
    "    mask = list(range(num_test))\n",
    "    X_test = X_test[mask]\n",
    "    y_test = y_test[mask]\n",
    "    mask = np.random.choice(num_training, num_dev, replace=False)\n",
    "    X_dev = X_train[mask]\n",
    "    y_dev = y_train[mask]\n",
    "    \n",
    "    # Preprocessing: reshape the image data into rows\n",
    "    X_train = np.reshape(X_train, (X_train.shape[0], -1))\n",
    "    X_val = np.reshape(X_val, (X_val.shape[0], -1))\n",
    "    X_test = np.reshape(X_test, (X_test.shape[0], -1))\n",
    "    X_dev = np.reshape(X_dev, (X_dev.shape[0], -1))\n",
    "    \n",
    "    # Normalize the data: subtract the mean image\n",
    "    mean_image = np.mean(X_train, axis = 0)\n",
    "    X_train -= mean_image\n",
    "    X_val -= mean_image\n",
    "    X_test -= mean_image\n",
    "    X_dev -= mean_image\n",
    "    \n",
    "    # add bias dimension and transform into columns\n",
    "    X_train = np.hstack([X_train, np.ones((X_train.shape[0], 1))])\n",
    "    X_val = np.hstack([X_val, np.ones((X_val.shape[0], 1))])\n",
    "    X_test = np.hstack([X_test, np.ones((X_test.shape[0], 1))])\n",
    "    X_dev = np.hstack([X_dev, np.ones((X_dev.shape[0], 1))])\n",
    "    \n",
    "    return X_train, y_train, X_val, y_val, X_test, y_test, X_dev, y_dev\n",
    "\n",
    "\n",
    "# Cleaning up variables to prevent loading data multiple times (which may cause memory issue)\n",
    "try:\n",
    "   del X_train, y_train\n",
    "   del X_test, y_test\n",
    "   print('Clear previously loaded data.')\n",
    "except:\n",
    "   pass\n",
    "\n",
    "# Invoke the above function to get our data.\n",
    "X_train, y_train, X_val, y_val, X_test, y_test, X_dev, y_dev = get_CIFAR10_data()\n",
    "print('Train data shape: ', X_train.shape)\n",
    "print('Train labels shape: ', y_train.shape)\n",
    "print('Validation data shape: ', X_val.shape)\n",
    "print('Validation labels shape: ', y_val.shape)\n",
    "print('Test data shape: ', X_test.shape)\n",
    "print('Test labels shape: ', y_test.shape)\n",
    "print('dev data shape: ', X_dev.shape)\n",
    "print('dev labels shape: ', y_dev.shape)"
   ]
  },
  {
   "cell_type": "markdown",
   "metadata": {},
   "source": [
    "## Softmax Classifier\n",
    "\n",
    "Your code for this section will all be written inside **cs231n/classifiers/softmax.py**. \n"
   ]
  },
  {
   "cell_type": "code",
   "execution_count": 3,
   "metadata": {
    "pixiedust": {
     "displayParams": {}
    }
   },
   "outputs": [
    {
     "name": "stdout",
     "output_type": "stream",
     "text": [
      "loss: 2.356473\n",
      "sanity check: 2.302585\n"
     ]
    }
   ],
   "source": [
    "# %%pixie_debugger\n",
    "'''\n",
    "First implement the naive softmax loss function with nested loops. \n",
    "Open the file ie590/classifiers/softmax.py and implement the \n",
    "softmax_loss_naive function. \n",
    "'''\n",
    "\n",
    "from ie590.classifiers.softmax import softmax_loss_naive\n",
    "import time\n",
    "\n",
    "# Generate a random softmax weight matrix and use it to compute the loss.\n",
    "W = np.random.randn(3073, 10) * 0.0001\n",
    "loss, grad = softmax_loss_naive(W, X_dev, y_dev, 0.0)\n",
    "\n",
    "# As a rough sanity check, our loss should be something close to -log(0.1).\n",
    "print('loss: %f' % loss)\n",
    "print('sanity check: %f' % (-np.log(0.1)))"
   ]
  },
  {
   "cell_type": "markdown",
   "metadata": {},
   "source": [
    "## Inline Question 1:\n",
    "\n",
    "**Why do we expect our loss to be close to -log(0.1)? Explain briefly.**\n",
    "\n",
    "$\\color{blue}{\\textit Your Answer:}$ Because of random initialization of weights, each class is equally likely to match. So probability is $\\frac{100}{no. of classes} \\%=10\\%$. Hence, loss will be           \n",
    "-log(10/100) = -log(0.1)"
   ]
  },
  {
   "cell_type": "markdown",
   "metadata": {},
   "source": [
    "## Inline Question 2:\n",
    "\n",
    "**What would be the value of initial loss as number of classes becomes extremely large (inifinity)?**\n",
    "\n",
    "**Your answer:** When there are inifinite classes, the initial loss will be infinity as $-log(1/\\infty) = -log(0) = \\infty$\n"
   ]
  },
  {
   "cell_type": "code",
   "execution_count": 4,
   "metadata": {
    "scrolled": true
   },
   "outputs": [
    {
     "name": "stdout",
     "output_type": "stream",
     "text": [
      "numerical: -0.908274 analytic: -0.908274, relative error: 6.441911e-08\n",
      "numerical: 2.746250 analytic: 2.746250, relative error: 4.620969e-08\n",
      "numerical: 0.033673 analytic: 0.033673, relative error: 6.066088e-07\n",
      "numerical: -0.952748 analytic: -0.952748, relative error: 5.745002e-08\n",
      "numerical: -0.864063 analytic: -0.864063, relative error: 7.908199e-08\n",
      "numerical: -6.591744 analytic: -6.591744, relative error: 8.866671e-09\n",
      "numerical: -3.739619 analytic: -3.739619, relative error: 9.162375e-10\n",
      "numerical: -0.433189 analytic: -0.433189, relative error: 1.298350e-07\n",
      "numerical: 2.831809 analytic: 2.831809, relative error: 1.461023e-08\n",
      "numerical: -0.823772 analytic: -0.823772, relative error: 8.890348e-08\n",
      "numerical: -0.860882 analytic: -0.860882, relative error: 9.732546e-08\n",
      "numerical: -2.360728 analytic: -2.360728, relative error: 4.792694e-09\n",
      "numerical: -0.723972 analytic: -0.723972, relative error: 1.993220e-08\n",
      "numerical: 0.655475 analytic: 0.655475, relative error: 6.809955e-08\n",
      "numerical: -1.372082 analytic: -1.372082, relative error: 9.909831e-09\n",
      "numerical: -1.835781 analytic: -1.835781, relative error: 3.705685e-08\n",
      "numerical: 1.462278 analytic: 1.462278, relative error: 2.358912e-08\n",
      "numerical: 0.096555 analytic: 0.096555, relative error: 7.222106e-07\n",
      "numerical: 0.091605 analytic: 0.091604, relative error: 8.511622e-07\n",
      "numerical: -1.452434 analytic: -1.452434, relative error: 5.134379e-08\n"
     ]
    }
   ],
   "source": [
    "# Complete the implementation of softmax_loss_naive and implement a (naive)\n",
    "# version of the gradient that uses nested loops.\n",
    "loss, grad = softmax_loss_naive(W, X_dev, y_dev, 0.0)\n",
    "\n",
    "# As we did for the SVM, use numeric gradient checking as a debugging tool.\n",
    "# The numeric gradient should be close to the analytic gradient.\n",
    "from ie590.gradient_check import grad_check_sparse\n",
    "f = lambda w: softmax_loss_naive(w, X_dev, y_dev, 0.0)[0]\n",
    "grad_numerical = grad_check_sparse(f, W, grad, 10)\n",
    "\n",
    "# similar to SVM case, do another gradient check with regularization\n",
    "loss, grad = softmax_loss_naive(W, X_dev, y_dev, 5e1)\n",
    "f = lambda w: softmax_loss_naive(w, X_dev, y_dev, 5e1)[0]\n",
    "grad_numerical = grad_check_sparse(f, W, grad, 10)"
   ]
  },
  {
   "cell_type": "code",
   "execution_count": 5,
   "metadata": {
    "pixiedust": {
     "displayParams": {}
    }
   },
   "outputs": [
    {
     "name": "stdout",
     "output_type": "stream",
     "text": [
      "naive loss: 2.356473e+00 computed in 0.125664s\n",
      "partially vectorized loss: 2.356473e+00 computed in 0.089761s\n",
      "Loss difference: 0.000000\n",
      "Gradient difference: 0.000000\n"
     ]
    }
   ],
   "source": [
    "# %%pixie_debugger\n",
    "# Now that we have a naive implementation of the softmax loss function and its gradient,\n",
    "# implement a partially vectorized version in softmax_loss_partially_vectorized.\n",
    "# The two versions should compute the same results, but the partially vectorized version should be\n",
    "# relatively faster.\n",
    "tic = time.time()\n",
    "loss_naive, grad_naive = softmax_loss_naive(W, X_dev, y_dev, 0.000005)\n",
    "toc = time.time()\n",
    "print('naive loss: %e computed in %fs' % (loss_naive, toc - tic))\n",
    "\n",
    "from ie590.classifiers.softmax import softmax_loss_partially_vectorized\n",
    "tic = time.time()\n",
    "loss_partially_vectorized, grad_partially_vectorized = softmax_loss_partially_vectorized(W, X_dev, y_dev, 0.000005)\n",
    "toc = time.time()\n",
    "print('partially vectorized loss: %e computed in %fs' % (loss_partially_vectorized, toc - tic))\n",
    "\n",
    "# As we did for the SVM, we use the Frobenius norm to compare the two versions\n",
    "# of the gradient.\n",
    "grad_difference = np.linalg.norm(grad_naive - grad_partially_vectorized, ord='fro')\n",
    "print('Loss difference: %f' % np.abs(loss_naive - loss_partially_vectorized))\n",
    "print('Gradient difference: %f' % grad_difference)"
   ]
  },
  {
   "cell_type": "code",
   "execution_count": 6,
   "metadata": {},
   "outputs": [
    {
     "name": "stdout",
     "output_type": "stream",
     "text": [
      "naive loss: 2.356473e+00 computed in 0.135607s\n",
      "vectorized loss: 2.356473e+00 computed in 0.002993s\n",
      "Loss difference: 0.000000\n",
      "Gradient difference: 0.000000\n"
     ]
    }
   ],
   "source": [
    "# Now you will implement a fully vectorized version in softmax_loss_vectorized.\n",
    "# The two versions should compute the same results, but the fully vectorized version should be\n",
    "# much faster.\n",
    "tic = time.time()\n",
    "loss_naive, grad_naive = softmax_loss_naive(W, X_dev, y_dev, 0.000005)\n",
    "toc = time.time()\n",
    "print('naive loss: %e computed in %fs' % (loss_naive, toc - tic))\n",
    "\n",
    "from ie590.classifiers.softmax import softmax_loss_vectorized\n",
    "tic = time.time()\n",
    "loss_vectorized, grad_vectorized = softmax_loss_vectorized(W, X_dev, y_dev, 0.000005)\n",
    "toc = time.time()\n",
    "print('vectorized loss: %e computed in %fs' % (loss_vectorized, toc - tic))\n",
    "\n",
    "# As we did for the SVM, we use the Frobenius norm to compare the two versions\n",
    "# of the gradient.\n",
    "grad_difference = np.linalg.norm(grad_naive - grad_vectorized, ord='fro')\n",
    "print('Loss difference: %f' % np.abs(loss_naive - loss_vectorized))\n",
    "print('Gradient difference: %f' % grad_difference)"
   ]
  },
  {
   "cell_type": "code",
   "execution_count": 7,
   "metadata": {},
   "outputs": [
    {
     "name": "stdout",
     "output_type": "stream",
     "text": [
      "lr 5.000000e-07 reg 5.000000e+02 train accuracy: 0.361653 val accuracy: 0.370000\n",
      "lr 5.000000e-07 reg 1.000000e+03 train accuracy: 0.389306 val accuracy: 0.380000\n",
      "lr 5.000000e-07 reg 5.000000e+03 train accuracy: 0.372878 val accuracy: 0.390000\n",
      "lr 5.000000e-07 reg 1.000000e+04 train accuracy: 0.356061 val accuracy: 0.371000\n",
      "lr 1.000000e-06 reg 5.000000e+02 train accuracy: 0.397592 val accuracy: 0.400000\n",
      "lr 1.000000e-06 reg 1.000000e+03 train accuracy: 0.400918 val accuracy: 0.403000\n",
      "lr 1.000000e-06 reg 5.000000e+03 train accuracy: 0.363571 val accuracy: 0.374000\n",
      "lr 1.000000e-06 reg 1.000000e+04 train accuracy: 0.348694 val accuracy: 0.356000\n",
      "lr 5.000000e-06 reg 5.000000e+02 train accuracy: 0.380204 val accuracy: 0.397000\n",
      "lr 5.000000e-06 reg 1.000000e+03 train accuracy: 0.362755 val accuracy: 0.386000\n",
      "lr 5.000000e-06 reg 5.000000e+03 train accuracy: 0.298918 val accuracy: 0.312000\n",
      "lr 5.000000e-06 reg 1.000000e+04 train accuracy: 0.270755 val accuracy: 0.252000\n",
      "best validation accuracy achieved during cross-validation: 0.403000\n"
     ]
    }
   ],
   "source": [
    "# Use the validation set to tune hyperparameters (regularization strength and\n",
    "# learning rate). You should experiment with different ranges for the learning\n",
    "# rates and regularization strengths; if you are careful you should be able to\n",
    "# get a classification accuracy of over 0.34 on the validation set.\n",
    "from ie590.classifiers import Softmax\n",
    "results = {}\n",
    "best_val = -1\n",
    "best_softmax = Softmax() ## Overwrite this variable with best trained softmax classifier. \n",
    "# Feel free to experiment with some other learning rates\n",
    "learning_rates = [1e-7, 5e-7]\n",
    "# Feel free to experiment with other values of regularization strength\n",
    "regularization_strengths = [2.5e4, 5e4] \n",
    "\n",
    "learning_rates = [5e-7, 1e-6, 5e-6]\n",
    "regularization_strengths = [5e2, 1e3, 5e3, 1e4]\n",
    "\n",
    "################################################################################\n",
    "# TODO:                                                                        #\n",
    "# Use the validation set to set the learning rate and regularization strength. #\n",
    "# This should be identical to the validation that you did for the SVM; save    #\n",
    "# the best trained softmax classifer in best_softmax.                          #\n",
    "################################################################################\n",
    "#                          START OF YOUR CODE                                  #\n",
    "################################################################################\n",
    "#pass ## Write your code here\n",
    "for i in learning_rates:\n",
    "    for j in regularization_strengths:\n",
    "        soft_tune = Softmax()\n",
    "        loss_hist_tune = soft_tune.train(X_train, y_train, learning_rate=i, reg=j, num_iters=1500, verbose=False)\n",
    "        # predict\n",
    "        y_train_pred_tune = soft_tune.predict(X_train)\n",
    "        y_val_pred_tune = soft_tune.predict(X_val)\n",
    "        # accuracy\n",
    "        acc_train_tune = np.mean(y_train == y_train_pred_tune)\n",
    "        acc_val_tune = np.mean(y_val == y_val_pred_tune)\n",
    "        # yay!\n",
    "        results[i,j] = (acc_train_tune, acc_val_tune)\n",
    "        if best_val < acc_val_tune:\n",
    "            best_softmax = soft_tune\n",
    "            best_val = acc_val_tune\n",
    "################################################################################\n",
    "#                              END OF YOUR CODE                                #\n",
    "################################################################################\n",
    "    \n",
    "# Print out results.\n",
    "for lr, reg in sorted(results):\n",
    "    train_accuracy, val_accuracy = results[(lr, reg)]\n",
    "    print('lr %e reg %e train accuracy: %f val accuracy: %f' % (\n",
    "                lr, reg, train_accuracy, val_accuracy))\n",
    "    \n",
    "print('best validation accuracy achieved during cross-validation: %f' % best_val)"
   ]
  },
  {
   "cell_type": "code",
   "execution_count": 8,
   "metadata": {},
   "outputs": [
    {
     "name": "stdout",
     "output_type": "stream",
     "text": [
      "softmax on raw pixels final test set accuracy: 0.379000\n"
     ]
    }
   ],
   "source": [
    "# evaluate on test set\n",
    "# Evaluate the best softmax on test set\n",
    "y_test_pred = best_softmax.predict(X_test)\n",
    "test_accuracy = np.mean(y_test == y_test_pred)\n",
    "print('softmax on raw pixels final test set accuracy: %f' % (test_accuracy, ))"
   ]
  },
  {
   "cell_type": "markdown",
   "metadata": {},
   "source": [
    "## Inline Question 3 (True or False):\n",
    "\n",
    "**It's possible to add a new datapoint to a training set that would leave the SVM loss unchanged, but this is not the case with the Softmax classifier loss.**\n",
    "\n",
    "*Your answer*: Yes and No\n",
    "\n",
    "*Your explanation*: <u>If</u> new datapoint has score that is out of margin range then loss wouldn't change but in case of softmax, since each datapoint is used in loss calculation, new datapoint will change loss."
   ]
  },
  {
   "cell_type": "code",
   "execution_count": 9,
   "metadata": {},
   "outputs": [
    {
     "data": {
      "image/png": "[encoded data removed]",
      "text/plain": [
       "<Figure size 432x288 with 10 Axes>"
      ]
     },
     "metadata": {
      "needs_background": "light"
     },
     "output_type": "display_data"
    }
   ],
   "source": [
    "# Visualize the learned weights for each class\n",
    "w = best_softmax.W[:-1,:] # strip out the bias\n",
    "w = w.reshape(32, 32, 3, 10)\n",
    "\n",
    "w_min, w_max = np.min(w), np.max(w)\n",
    "\n",
    "classes = ['plane', 'car', 'bird', 'cat', 'deer', 'dog', 'frog', 'horse', 'ship', 'truck']\n",
    "for i in range(10):\n",
    "    plt.subplot(2, 5, i + 1)\n",
    "    \n",
    "    # Rescale the weights to be between 0 and 255\n",
    "    wimg = 255.0 * (w[:, :, :, i].squeeze() - w_min) / (w_max - w_min)\n",
    "    plt.imshow(wimg.astype('uint8'))\n",
    "    plt.axis('off')\n",
    "    plt.title(classes[i])"
   ]
  }
 ],
 "metadata": {
  "kernelspec": {
   "display_name": "Python 3",
   "language": "python",
   "name": "python3"
  },
  "language_info": {
   "codemirror_mode": {
    "name": "ipython",
    "version": 3
   },
   "file_extension": ".py",
   "mimetype": "text/x-python",
   "name": "python",
   "nbconvert_exporter": "python",
   "pygments_lexer": "ipython3",
   "version": "3.7.4"
  }
 },
 "nbformat": 4,
 "nbformat_minor": 1
}
